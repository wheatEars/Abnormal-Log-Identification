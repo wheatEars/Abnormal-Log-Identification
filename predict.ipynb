{
 "cells": [
  {
   "cell_type": "markdown",
   "metadata": {},
   "source": [
    "# 预测新数据"
   ]
  },
  {
   "cell_type": "code",
   "execution_count": 1,
   "metadata": {},
   "outputs": [],
   "source": [
    "import json\n",
    "from joblib import load\n",
    "import pandas as pd\n",
    "\n",
    "data_dir = 'use/bgl_logs_test.json'\n",
    "res_dir = 'result.csv'\n",
    "with open(data_dir, 'r') as f:\n",
    "    data = json.load(f)\n",
    "\n",
    "use_data = []\n",
    "use_index = []\n",
    "for log_item in data:\n",
    "    use_data.append(log_item['log'])\n",
    "    use_index.append(log_item['index'])\n",
    "\n",
    "model = load('model.joblib')\n",
    "vectorizer = load('vectorizer.joblib')\n",
    "\n",
    "use_data = vectorizer.transform(use_data)\n",
    "predictions = model.predict(use_data)\n",
    "\n",
    "new_result = pd.DataFrame({'id': use_index, 'label': ['Normal' if x == 1 else 'Anomalous' for x in predictions]})\n",
    "new_result.to_csv(res_dir, index=False)\n"
   ]
  }
 ],
 "metadata": {
  "kernelspec": {
   "display_name": "Python 3",
   "language": "python",
   "name": "python3"
  },
  "language_info": {
   "codemirror_mode": {
    "name": "ipython",
    "version": 3
   },
   "file_extension": ".py",
   "mimetype": "text/x-python",
   "name": "python",
   "nbconvert_exporter": "python",
   "pygments_lexer": "ipython3",
   "version": "3.10.12"
  }
 },
 "nbformat": 4,
 "nbformat_minor": 2
}
