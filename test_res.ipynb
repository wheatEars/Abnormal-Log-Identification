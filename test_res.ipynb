{
 "cells": [
  {
   "cell_type": "code",
   "execution_count": 7,
   "metadata": {},
   "outputs": [
    {
     "ename": "ValueError",
     "evalue": "invalid literal for int() with base 10: 'id'",
     "output_type": "error",
     "traceback": [
      "\u001b[0;31m---------------------------------------------------------------------------\u001b[0m",
      "\u001b[0;31mValueError\u001b[0m                                Traceback (most recent call last)",
      "Cell \u001b[0;32mIn[7], line 18\u001b[0m\n\u001b[1;32m     16\u001b[0m             \u001b[38;5;28;01mcontinue\u001b[39;00m\n\u001b[1;32m     17\u001b[0m         index, label \u001b[38;5;241m=\u001b[39m line\u001b[38;5;241m.\u001b[39mstrip()\u001b[38;5;241m.\u001b[39msplit(\u001b[38;5;124m'\u001b[39m\u001b[38;5;124m,\u001b[39m\u001b[38;5;124m'\u001b[39m)\n\u001b[0;32m---> 18\u001b[0m         \u001b[38;5;28;01mif\u001b[39;00m label_dict[\u001b[38;5;28;43mint\u001b[39;49m\u001b[43m(\u001b[49m\u001b[43mindex\u001b[49m\u001b[43m)\u001b[49m] \u001b[38;5;241m==\u001b[39m label:\n\u001b[1;32m     19\u001b[0m             correct_count \u001b[38;5;241m+\u001b[39m\u001b[38;5;241m=\u001b[39m \u001b[38;5;241m1\u001b[39m\n\u001b[1;32m     20\u001b[0m \u001b[38;5;28mprint\u001b[39m(correct_count\u001b[38;5;241m/\u001b[39m\u001b[38;5;28mlen\u001b[39m(label_dict))\n",
      "\u001b[0;31mValueError\u001b[0m: invalid literal for int() with base 10: 'id'"
     ]
    }
   ],
   "source": [
    "#test fit for 6.txt and /train/res.json\n",
    "import json\n",
    "#取res.json中数组元素的index属性为索引，lable属性为值，构造字典\n",
    "\n",
    "res = json.load(open('train/res.json', 'r'))\n",
    "label_dict = {}\n",
    "for item in res:\n",
    "    label_dict[item['index']] = item['label']\n",
    "\n",
    "#取6.txt中的数据，构造训练集,文件为csv格式: index,lable\n",
    "correct_count = 0\n",
    "with open('6.txt', 'r') as f:\n",
    "    for line in f:\n",
    "        #跳过第一行\n",
    "        if line.startswith('id'):\n",
    "            continue\n",
    "        index, label = line.strip().split(',')\n",
    "        if label_dict[int(index)] == label:\n",
    "            correct_count += 1\n",
    "print(correct_count/len(label_dict))\n"
   ]
  }
 ],
 "metadata": {
  "kernelspec": {
   "display_name": "Python 3",
   "language": "python",
   "name": "python3"
  },
  "language_info": {
   "codemirror_mode": {
    "name": "ipython",
    "version": 3
   },
   "file_extension": ".py",
   "mimetype": "text/x-python",
   "name": "python",
   "nbconvert_exporter": "python",
   "pygments_lexer": "ipython3",
   "version": "3.10.12"
  }
 },
 "nbformat": 4,
 "nbformat_minor": 2
}
