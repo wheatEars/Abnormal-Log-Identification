{
 "cells": [
  {
   "cell_type": "code",
   "execution_count": 1,
   "metadata": {},
   "outputs": [],
   "source": [
    "import json\n",
    "import random\n",
    "\n",
    "dataset = json.load(open('train/bgl_logs_train.json'))\n",
    "outputfile = open('test.txt', 'w')\n",
    "\n",
    "Anomalous_keywords = [\"error\", \"bad\", \"tlb\", \"fail\", \"interrupt\", \"failed\"]"
   ]
  },
  {
   "cell_type": "code",
   "execution_count": 2,
   "metadata": {},
   "outputs": [],
   "source": [
    "#分离字段\n",
    "#timestamp date hostname module [log words]\n",
    "def split_log(log:str):\n",
    "    log = log.split()\n",
    "    log = log[4:]\n",
    "    return log"
   ]
  },
  {
   "cell_type": "code",
   "execution_count": 4,
   "metadata": {},
   "outputs": [
    {
     "name": "stdout",
     "output_type": "stream",
     "text": [
      "211 6135 0.9656071719641401\n"
     ]
    }
   ],
   "source": [
    "cnt = 0\n",
    "for log_item in dataset:\n",
    "    log = log_item['log']\n",
    "    log = split_log(log)\n",
    "    label = \"Normal\"\n",
    "    for word in log:\n",
    "        if word in Anomalous_keywords:\n",
    "            label = \"Anomalous\"\n",
    "            break\n",
    "\n",
    "        \n",
    "    true_label = log_item['label']\n",
    "    if label != true_label:\n",
    "        cnt += 1\n",
    "print(cnt, len(dataset), 1- cnt/len(dataset));"
   ]
  },
  {
   "cell_type": "code",
   "execution_count": 5,
   "metadata": {},
   "outputs": [
    {
     "name": "stdout",
     "output_type": "stream",
     "text": [
      "378 6135 0.06161369193154034\n"
     ]
    }
   ],
   "source": [
    "abnormal_cnt = 0;\n",
    "for log_item in dataset:\n",
    "    if log_item['label'] == \"Anomalous\":\n",
    "        abnormal_cnt += 1\n",
    "print(abnormal_cnt, len(dataset), abnormal_cnt/len(dataset))"
   ]
  }
 ],
 "metadata": {
  "kernelspec": {
   "display_name": "Python 3",
   "language": "python",
   "name": "python3"
  },
  "language_info": {
   "codemirror_mode": {
    "name": "ipython",
    "version": 3
   },
   "file_extension": ".py",
   "mimetype": "text/x-python",
   "name": "python",
   "nbconvert_exporter": "python",
   "pygments_lexer": "ipython3",
   "version": "3.10.12"
  }
 },
 "nbformat": 4,
 "nbformat_minor": 2
}
